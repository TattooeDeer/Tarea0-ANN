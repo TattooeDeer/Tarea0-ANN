{
 "cells": [
  {
   "cell_type": "raw",
   "metadata": {},
   "source": [
    "<script>\n",
    "  jQuery(document).ready(function($) {\n",
    "\n",
    "  $(window).load(function(){\n",
    "    $('#preloader').fadeOut('slow',function(){$(this).remove();});\n",
    "  });\n",
    "\n",
    "  });\n",
    "</script>\n",
    "\n",
    "<style type=\"text/css\">\n",
    "  div#preloader { position: fixed;\n",
    "      left: 0;\n",
    "      top: 0;\n",
    "      z-index: 999;\n",
    "      width: 100%;\n",
    "      height: 100%;\n",
    "      overflow: visible;\n",
    "      background: #fff url('http://preloaders.net/preloaders/720/Moving%20line.gif') no-repeat center center;\n",
    "  }\n",
    "\n",
    "</style>\n",
    "\n",
    "<div id=\"preloader\"></div>\n",
    "\n",
    "<script>\n",
    "  function code_toggle() {\n",
    "    if (code_shown){\n",
    "      $('div.input').hide('500');\n",
    "      $('#toggleButton').val('Show Code')\n",
    "    } else {\n",
    "      $('div.input').show('500');\n",
    "      $('#toggleButton').val('Hide Code')\n",
    "    }\n",
    "    code_shown = !code_shown\n",
    "  }\n",
    "\n",
    "  $( document ).ready(function(){\n",
    "    code_shown=false;\n",
    "    $('div.input').hide()\n",
    "  });\n",
    "</script>\n",
    "<form action=\"javascript:code_toggle()\"><input type=\"submit\" id=\"toggleButton\" value=\"Show Code\"></form>"
   ]
  },
  {
   "cell_type": "markdown",
   "metadata": {},
   "source": [
    "<img src=\"images/escudo_utfsm.gif\" style=\"float:right;height:100px\">\n",
    "<img src=\"images/IsotipoDIisocolor.png\" style=\"float:left;height:100px\">\n",
    "<center>\n",
    "\n",
    "    <i><h2 style=\"font-family:serif;font-size:300%; text-align:center;color:#283A5B\"> Tarea 0</h2></i>\n",
    "    <h1 style=\"font-family:serif;font-size:200%; text-align:center;color:#4d4d4d\"> <i> Redes Neuronales Artificiales - San Joaquín </i></h1>\n",
    "    <h3 style = 'font-family:serif;font-size:120%'><i> Ignacio Loayza C. 201273604-8</i></h3>\n",
    "\n",
    "</center>\n",
    "\n",
    "<p>\n",
    "<center>_Marzo 2018_ </center>\n",
    "</p>"
   ]
  },
  {
   "cell_type": "code",
   "execution_count": 4,
   "metadata": {},
   "outputs": [
    {
     "name": "stderr",
     "output_type": "stream",
     "text": [
      "Using TensorFlow backend.\n"
     ]
    },
    {
     "data": {
      "text/html": [
       "\n",
       "<style>\n",
       "p {\n",
       "    color: black;\n",
       "    font-family: Serif;\n",
       "    font-size: 1.23em;\n",
       "}\n",
       ".output_png {\n",
       "        display: table-cell;\n",
       "        text-align: center;\n",
       "        vertical-align: middle;\n",
       "    }\n",
       "\n",
       "</style>\n",
       "\n"
      ],
      "text/plain": [
       "<IPython.core.display.HTML object>"
      ]
     },
     "metadata": {},
     "output_type": "display_data"
    }
   ],
   "source": [
    "# encoding: utf-8\n",
    "%matplotlib inline\n",
    "\n",
    "# semilla\n",
    "seed = hash(\"Ñanculef es mi pastor, nada me ha de faltar\")%2^32\n",
    "\n",
    "# Imports\n",
    "\n",
    "#Neural Networks\n",
    "import tensorflow as tf\n",
    "from keras.models import Sequential\n",
    "from keras.layers import Dense\n",
    "\n",
    "\n",
    "#numerico\n",
    "import numpy as np\n",
    "import pandas as pd\n",
    "\n",
    "#Machine Learning\n",
    "\n",
    "#Metricas\n",
    "\n",
    "#Graficos\n",
    "import matplotlib.pyplot as plt\n",
    "import seaborn as sn\n",
    "sn.set_style(\"darkgrid\")\n",
    "import graphviz\n",
    "\n",
    "# Warnings\n",
    "import warnings\n",
    "warnings.filterwarnings('ignore')\n",
    "\n",
    "#Shallow copy\n",
    "import copy\n",
    "\n",
    "#preprocesamiento\n",
    "\n",
    "\n",
    "#HTML incrustation\n",
    "from IPython.display import display, HTML\n",
    "\n",
    "display(HTML(\"\"\"\n",
    "<style>\n",
    "p {\n",
    "    color: black;\n",
    "    font-family: Serif;\n",
    "    font-size: 1.23em;\n",
    "}\n",
    ".output_png {\n",
    "        display: table-cell;\n",
    "        text-align: center;\n",
    "        vertical-align: middle;\n",
    "    }\n",
    "\n",
    "</style>\n",
    "\n",
    "\"\"\"))\n"
   ]
  },
  {
   "cell_type": "markdown",
   "metadata": {},
   "source": [
    "<i><h2 style=\"font-family:serif;font-size:260%; text-align:center;color:#004d80\"> Back-propagation from Scratch</h2></i>\n",
    "\n",
    "<i><h3 style=\"font-family:serif;font-size:200%; text-align:left;color:#4d4d4d\"> I) Entrenando una red FF mediante Back-propagation</h3></i>\n",
    "\n",
    "Comenzaremos entrenando una red del tipo *Feed Forward* con arquitectura de dos capas ocultas, distribuidas de la forma  32:16 neuronas en las capas y *K* neuronas de salida."
   ]
  },
  {
   "cell_type": "code",
   "execution_count": 117,
   "metadata": {},
   "outputs": [],
   "source": [
    "## Clases necesarias\n",
    "\n",
    "\n",
    "\n",
    "class Network:\n",
    "    def __init__(self, n_inputs, neurons_each_layer, n_outputs):\n",
    "        self.n_inputs = n_inputs\n",
    "        self.neurons_each_layer = neurons_each_layer\n",
    "        self.n_outputs = n_outputs\n",
    "        \n",
    "        # Inicializacion de las capas\n",
    "        layers_array = []\n",
    "        index = 0\n",
    "        n_neurons_prev_layer = 0 # para la capa de input\n",
    "\n",
    "        #input layer\n",
    "        layers_array.append(Layer(n_inputs, 0, index))\n",
    "        n_neurons_prev_layer = n_inputs\n",
    "\n",
    "        #Hidden layers\n",
    "        for layer_conf in neurons_each_layer:\n",
    "            index+=1\n",
    "            layers_array.append(Layer(layer_conf, n_neurons_prev_layer,index))\n",
    "            n_neurons_prev_layer = layer_conf\n",
    "            \n",
    "        #Output layer\n",
    "        layers_array.append(Layer(n_outputs, n_neurons_prev_layer, index))\n",
    "        self.hidden_layers = layers_array\n",
    "            \n",
    "        \n",
    "    def get_weights_matrix(layer_index):\n",
    "        return self.hidden_layers[layer_index].get_weights_matrix()\n",
    "    \n",
    "    def get_n_inputs(self):\n",
    "        return n_inputs\n",
    "    def get_neurons_each_layer(self):\n",
    "        return self.neurons_each_layer\n",
    "    def get_n_outputs(self):\n",
    "        return n_outputs\n",
    "\n",
    "    def get_network_parameters(self):\n",
    "        network_params = {'n_inputs':self.n_inputs,\n",
    "                        'neurons_each_layer':self.neurons_each_layer,\n",
    "                        'n_outputs':self.n_outputs,\n",
    "                         'hidden_layers':self.hidden_layers}\n",
    "        return network_params\n",
    "    \n",
    "    def train(self, transfer_func, df_train):\n",
    "        #Chequear si el numero de atributos concuerda con el numero de inputs especificados\n",
    "        if(len(df_train.columns) != self.n_inputs):\n",
    "            print('El número de columnas del dataset no coincide con el número de inputs especificado para esta red')\n",
    "            print(\"Número de columnas del dataset: %d\" %len(df_train.columns))\n",
    "            print(\"Número de inputs aceptados por la red: %d\" %self.n_inputs)\n",
    "            return\n",
    "        # extraer una fila y pasarsela a la funcion de forward_propagacion\n",
    "    \n",
    "        \n",
    "        \n",
    "class Layer:\n",
    "    def __init__(self, neurons_in_layer, neurons_previous_layer, index, **kargs):\n",
    "        self.layer_index = index\n",
    "        self.neurons_in_layer = neurons_in_layer\n",
    "        self.activations_column = []\n",
    "        \n",
    "        #Funciones de transferencia disponibles para la capa\n",
    "        if('transfer_func' in kargs):\n",
    "            if(transfer_func == 'sigmoid'):\n",
    "                self.transfer = self.sigmoid\n",
    "            elif(transfer_func == 'softmax'):\n",
    "                self.transfer = self.softmax\n",
    "        else:# Si no se especifica una funcion de transferencia usaremos por defecto la sigmoidal\n",
    "            self.transfer = self.sigmoid\n",
    "                \n",
    "        #Si es la primera capa no tiene matriz de pesos\n",
    "        if(self.layer_index == 0):\n",
    "            self.weights_matrix = []#np.zeros((self.neurons_in_layer, neurons_previous_layer))\n",
    "        else:\n",
    "            self.weights_matrix = np.random.rand(self.neurons_in_layer, neurons_previous_layer)\n",
    "            \n",
    "    def activation(self):\n",
    "        #### Deberiamos hacer algo asi como np.linalg.dot(weights[columna i], activations_column_capa_anterior)\n",
    "    def sigmoid(self,activation):\n",
    "        TOL = 1e-12 #La sigmoidal se agila en los extremos asi que hay que ponerle un limite de tolerancia\n",
    "        if(activation > 0):\n",
    "            activ = np.maximum(TOL, activation)\n",
    "        elif(activation < 0):\n",
    "            activ = np.maximum(-100,activation)\n",
    "        return 1 / (1 + np.exp(-activ))\n",
    "    \n",
    "    def softmax(self,activation):\n",
    "        return exp(activation)/np.sum(map(exp, self.activations_column))\n",
    "    \n",
    "    def get_parameters(self):\n",
    "        layer_params = {'neurons_in_layer':self.neurons_in_layer, 'weights_matrix':self.weights_matrix}\n",
    "        return layer_params\n",
    "    \n",
    "    def get_weights_matrix(self):\n",
    "        return self.weigths_matrix\n",
    "        \n",
    "        \n"
   ]
  },
  {
   "cell_type": "code",
   "execution_count": 118,
   "metadata": {},
   "outputs": [],
   "source": [
    "mynet = Network(5,(3,2), 1)"
   ]
  },
  {
   "cell_type": "code",
   "execution_count": 119,
   "metadata": {},
   "outputs": [],
   "source": [
    "\n",
    "dict_net =  mynet.get_network_parameters()"
   ]
  },
  {
   "cell_type": "code",
   "execution_count": 120,
   "metadata": {
    "collapsed": true
   },
   "outputs": [],
   "source": [
    "layers = dict_net['hidden_layers']"
   ]
  },
  {
   "cell_type": "code",
   "execution_count": 121,
   "metadata": {},
   "outputs": [
    {
     "data": {
      "text/plain": [
       "array([[ 0.06647328,  0.977386  ,  0.11780551],\n",
       "       [ 0.25358343,  0.94949178,  0.46092686]])"
      ]
     },
     "execution_count": 121,
     "metadata": {},
     "output_type": "execute_result"
    }
   ],
   "source": [
    "layers[2].get_parameters()['weights_matrix']"
   ]
  },
  {
   "cell_type": "code",
   "execution_count": 122,
   "metadata": {},
   "outputs": [],
   "source": [
    "a = layers[2].transfer"
   ]
  },
  {
   "cell_type": "code",
   "execution_count": 124,
   "metadata": {},
   "outputs": [
    {
     "data": {
      "text/plain": [
       "0.95257412682243336"
      ]
     },
     "execution_count": 124,
     "metadata": {},
     "output_type": "execute_result"
    }
   ],
   "source": [
    "a(3)"
   ]
  },
  {
   "cell_type": "code",
   "execution_count": null,
   "metadata": {
    "collapsed": true
   },
   "outputs": [],
   "source": []
  }
 ],
 "metadata": {
  "kernelspec": {
   "display_name": "Python [conda root]",
   "language": "python",
   "name": "conda-root-py"
  },
  "language_info": {
   "codemirror_mode": {
    "name": "ipython",
    "version": 3
   },
   "file_extension": ".py",
   "mimetype": "text/x-python",
   "name": "python",
   "nbconvert_exporter": "python",
   "pygments_lexer": "ipython3",
   "version": "3.6.1"
  }
 },
 "nbformat": 4,
 "nbformat_minor": 2
}
