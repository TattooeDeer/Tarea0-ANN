{
 "cells": [
  {
   "cell_type": "raw",
   "metadata": {},
   "source": [
    "<script>\n",
    "  jQuery(document).ready(function($) {\n",
    "\n",
    "  $(window).load(function(){\n",
    "    $('#preloader').fadeOut('slow',function(){$(this).remove();});\n",
    "  });\n",
    "\n",
    "  });\n",
    "</script>\n",
    "\n",
    "<style type=\"text/css\">\n",
    "  div#preloader { position: fixed;\n",
    "      left: 0;\n",
    "      top: 0;\n",
    "      z-index: 999;\n",
    "      width: 100%;\n",
    "      height: 100%;\n",
    "      overflow: visible;\n",
    "      background: #fff url('http://preloaders.net/preloaders/720/Moving%20line.gif') no-repeat center center;\n",
    "  }\n",
    "\n",
    "</style>\n",
    "\n",
    "<div id=\"preloader\"></div>\n",
    "\n",
    "<script>\n",
    "  function code_toggle() {\n",
    "    if (code_shown){\n",
    "      $('div.input').hide('500');\n",
    "      $('#toggleButton').val('Show Code')\n",
    "    } else {\n",
    "      $('div.input').show('500');\n",
    "      $('#toggleButton').val('Hide Code')\n",
    "    }\n",
    "    code_shown = !code_shown\n",
    "  }\n",
    "\n",
    "  $( document ).ready(function(){\n",
    "    code_shown=false;\n",
    "    $('div.input').hide()\n",
    "  });\n",
    "</script>\n",
    "<form action=\"javascript:code_toggle()\"><input type=\"submit\" id=\"toggleButton\" value=\"Show Code\"></form>"
   ]
  },
  {
   "cell_type": "markdown",
   "metadata": {},
   "source": [
    "<img src=\"images/escudo_utfsm.gif\" style=\"float:right;height:100px\">\n",
    "<img src=\"images/IsotipoDIisocolor.png\" style=\"float:left;height:100px\">\n",
    "<center>\n",
    "\n",
    "    <i><h2 style=\"font-family:serif;font-size:300%; text-align:center;color:#283A5B\"> Tarea 0</h2></i>\n",
    "    <h1 style=\"font-family:serif;font-size:200%; text-align:center;color:#4d4d4d\"> <i> Redes Neuronales Artificiales - San Joaquín </i></h1>\n",
    "    <h3 style = 'font-family:serif;font-size:120%'><i> Ignacio Loayza C. 201273604-8</i></h3>\n",
    "\n",
    "</center>\n",
    "\n",
    "<p>\n",
    "<center>_Marzo 2018_ </center>\n",
    "</p>"
   ]
  },
  {
   "cell_type": "code",
   "execution_count": 1,
   "metadata": {},
   "outputs": [
    {
     "name": "stderr",
     "output_type": "stream",
     "text": [
      "Using TensorFlow backend.\n"
     ]
    },
    {
     "data": {
      "text/html": [
       "\n",
       "<style>\n",
       "p {\n",
       "    color: black;\n",
       "    font-family: Serif;\n",
       "    font-size: 1.23em;\n",
       "}\n",
       ".output_png {\n",
       "        display: table-cell;\n",
       "        text-align: center;\n",
       "        vertical-align: middle;\n",
       "    }\n",
       "\n",
       "</style>\n",
       "\n"
      ],
      "text/plain": [
       "<IPython.core.display.HTML object>"
      ]
     },
     "metadata": {},
     "output_type": "display_data"
    }
   ],
   "source": [
    "# encoding: utf-8\n",
    "%matplotlib inline\n",
    "\n",
    "# semilla\n",
    "seed = hash(\"Ñanculef es mi pastor, nada me ha de faltar\")%2^32\n",
    "\n",
    "# Imports\n",
    "\n",
    "#Neural Networks\n",
    "from keras.models import Sequential\n",
    "from keras.layers import Dense\n",
    "from keras.utils import to_categorical\n",
    "from keras.optimizers import SGD\n",
    "from keras.callbacks import Callback\n",
    "\n",
    "import tensorflow as tf\n",
    "\n",
    "# Numerico\n",
    "import numpy as np\n",
    "import pandas as pd\n",
    "\n",
    "#Machine Learning\n",
    "from sklearn.datasets import load_iris\n",
    "from sklearn.preprocessing import StandardScaler\n",
    "from sklearn.metrics import confusion_matrix\n",
    "\n",
    "# Timer\n",
    "from timeit import default_timer as timer\n",
    "\n",
    "#Metricas\n",
    "\n",
    "#Graficos\n",
    "import matplotlib.pyplot as plt\n",
    "import seaborn as sn\n",
    "sn.set_style(\"darkgrid\")\n",
    "\n",
    "# Warnings\n",
    "import warnings\n",
    "warnings.filterwarnings('ignore')\n",
    "\n",
    "#Shallow copy\n",
    "import copy\n",
    "\n",
    "#preprocesamiento\n",
    "\n",
    "\n",
    "#HTML incrustation\n",
    "from IPython.display import display, HTML\n",
    "\n",
    "display(HTML(\"\"\"\n",
    "<style>\n",
    "p {\n",
    "    color: black;\n",
    "    font-family: Serif;\n",
    "    font-size: 1.23em;\n",
    "}\n",
    ".output_png {\n",
    "        display: table-cell;\n",
    "        text-align: center;\n",
    "        vertical-align: middle;\n",
    "    }\n",
    "\n",
    "</style>\n",
    "\n",
    "\"\"\"))\n"
   ]
  },
  {
   "cell_type": "markdown",
   "metadata": {},
   "source": [
    "<i><h2 style=\"font-family:serif;font-size:260%; text-align:center;color:#004d80\"> Back-propagation from Scratch</h2></i>\n",
    "\n",
    "<i><h3 style=\"font-family:serif;font-size:200%; text-align:left;color:#4d4d4d\"> I) Entrenando una red FF mediante Back-propagation</h3></i>\n",
    "\n",
    "Comenzaremos entrenando una red del tipo *Feed Forward* con arquitectura de dos capas ocultas, distribuidas de la forma  32:16 neuronas en las capas y *K* neuronas de salida."
   ]
  },
  {
   "cell_type": "code",
   "execution_count": 2,
   "metadata": {},
   "outputs": [],
   "source": [
    "## Clases necesarias\n",
    "\n",
    "class Network:\n",
    "    def __init__(self, n_inputs, neurons_each_layer, n_outputs):\n",
    "        self.n_inputs = n_inputs\n",
    "        self.neurons_each_layer = neurons_each_layer\n",
    "        self.n_outputs = n_outputs\n",
    "        \n",
    "        # Inicializacion de las capas\n",
    "        layers_array = []\n",
    "        index = 0\n",
    "        n_neurons_prev_layer = 0 # para la capa de input\n",
    "\n",
    "        #input layer\n",
    "        layers_array.append(Layer(n_inputs, 0, index))\n",
    "        n_neurons_prev_layer = n_inputs\n",
    "\n",
    "        #Hidden layers\n",
    "        for layer_conf in neurons_each_layer:\n",
    "            index+=1\n",
    "            layers_array.append(Layer(layer_conf, n_neurons_prev_layer,index))\n",
    "            n_neurons_prev_layer = layer_conf\n",
    "        ## Aqui agregar la posibilidad de indicar funciones de transferencia para las capas\n",
    "        \n",
    "        #Output layer\n",
    "        layers_array.append(Layer(n_outputs, n_neurons_prev_layer, index))\n",
    "        self.hidden_layers = layers_array\n",
    "            \n",
    "    ############# Getters & Setters ###########################    \n",
    "    def get_weights_matrix(self, layer_index):\n",
    "        return self.hidden_layers[layer_index].get_weights_matrix()\n",
    "    \n",
    "    def get_n_inputs(self):\n",
    "        return self.n_inputs\n",
    "    def get_neurons_each_layer(self):\n",
    "        return self.neurons_each_layer\n",
    "    def get_n_outputs(self):\n",
    "        return self.n_outputs\n",
    "\n",
    "    def get_network_parameters(self):\n",
    "        network_params = {'n_inputs':self.n_inputs,\n",
    "                        'neurons_each_layer':self.neurons_each_layer,\n",
    "                        'n_outputs':self.n_outputs,\n",
    "                         'hidden_layers':self.hidden_layers}\n",
    "        return network_params\n",
    "    \n",
    "    #########################################################\n",
    "    \n",
    "    def forward_propagate(self, data_row):\n",
    "        previous_activations = np.ones((self.n_inputs,1))\n",
    "        \n",
    "        for layer in self.hidden_layers:\n",
    "            if(layer.get_index() == 0):#Si es la primera capa le tenemos que pasar la data_column como las activaciones\n",
    "                layer.compute_layer_activations(data_row)\n",
    "                previous_activations = layer.get_activations_column()\n",
    "            else:\n",
    "                layer.compute_layer_activations(previous_activations)\n",
    "                previous_activations = layer.get_activations_column()\n",
    "                \n",
    "    def backward_pass(self, expected_predictions):\n",
    "        # Primero calculamos el error para cada neurona de la capa de output\n",
    "        # Para calcular la señal de error de la capa de output lo hacemos con respecto a la\n",
    "        # fila de datos\n",
    "        previous_errors = self.calculate_output_error(expected_predictions)\n",
    "        previous_weights = np.ones((self.get_n_outputs(), self.get_n_outputs()))\n",
    "        \n",
    "        for layer in self.hidden_layers[:0:-1]:\n",
    "                #Si es la capa de output, usamos las predicciones esperadas de salida\n",
    "                # La señal de error de la capa de output es la funcion de error evaluada en las predicciones\n",
    "                # multiplicada por los pesos que llegan a la capa de output\n",
    "                \n",
    "            # calculo de la señal de error\n",
    "            layer.set_error_signals(np.dot(np.transpose(previous_weights),previous_errors))\n",
    "            \n",
    "            previous_errors = layer.get_error_signals()\n",
    "            previous_weights = layer.get_weights_matrix()\n",
    "            \n",
    "            #update de los pesos\n",
    "            layer.update_weights()\n",
    "        return\n",
    "        \n",
    "        \n",
    "        #Usemos el error cuadratico medio (MSE)\n",
    "    def calculate_output_error(self, expected):\n",
    "        return self.calculate_loss(expected)*self.hidden_layers[-1].transfer_derivative(self.hidden_layers[-1].get_activations_column())\n",
    "    \n",
    "    def calculate_loss(self, expected): \n",
    "        predicted = self.hidden_layers[-1].get_activations_column()\n",
    "        return np.power(expected - predicted,2)/2\n",
    "    \n",
    "    def gradient_loss(self, expected):\n",
    "        predicted = self.hidden_layers[-1].get_activations_column()\n",
    "        return predicted - expected\n",
    "                \n",
    "        \n",
    "\n",
    "    def train(self, df_train, df_validate):\n",
    "        #Chequear si el numero de atributos concuerda con el numero de inputs especificados\n",
    "        if(len(df_train.columns) != self.n_inputs):\n",
    "            print('El número de columnas del dataset no coincide con el número de inputs especificado para esta red')\n",
    "            print(\"Número de columnas del dataset: %d\" %len(df_train.columns))\n",
    "            print(\"Número de inputs aceptados por la red: %d\" %self.n_inputs)\n",
    "            return\n",
    "        \n",
    "        for index, train_row in df_train.iterrows():\n",
    "            # extraer una fila y forward propagate\n",
    "            self.forward_propagate(train_row)\n",
    "            \n",
    "            # backprop = backward pass + update weights\n",
    "            self.backward_pass(df_validate[index])\n",
    "        return\n",
    "\n",
    "    def predict(self, X_train):\n",
    "        self.forward_propagate(X_train)\n",
    "        predicted = self.hidden_layers[-1].transfer(self.hidden_layers[-1].get_activations_column())\n",
    "        return predicted\n",
    "            \n",
    "        \n",
    "        \n",
    "        \n",
    "        \n",
    "class Layer:\n",
    "    def __init__(self, neurons_in_layer, neurons_previous_layer, index, **kargs):\n",
    "        self.layer_index = index\n",
    "        self.neurons_in_layer = neurons_in_layer\n",
    "        self.activations_column = np.zeros((self.neurons_in_layer, 1))\n",
    "        self.error_signals = np.zeros((self.neurons_in_layer,1))\n",
    "        \n",
    "        #Funciones de transferencia disponibles para la capa\n",
    "        if('transfer_func' in kargs):\n",
    "            if(kargs['transfer_func'] == 'sigmoid'):\n",
    "                self.transfer = self.sigmoid\n",
    "                self.transfer_derivative = self.sigmoid_derivative\n",
    "            elif(kargs['transfer_func'] == 'softmax'):\n",
    "                self.transfer = self.softmax\n",
    "                self.transfer_derivative = self.softmax_derivative\n",
    "            elif(kargs['transfer_func'] == 'lineal' or index == 0): #Si es la capa de inputs le damos transferencia lineal\n",
    "                self.transfer = self.linear\n",
    "                self.transfer_derivative = self.linear_derivative\n",
    "        elif(index == 0):# La primera capa es la capa de input, con transferencia lineal\n",
    "            self.transfer = self.linear\n",
    "            self.transfer_derivative = self.linear_derivative\n",
    "        else:# Si no se especifica una funcion de transferencia usaremos por defecto la sigmoidal\n",
    "            self.transfer = self.sigmoid\n",
    "            self.transfer_derivative = self.sigmoid_derivative\n",
    "            \n",
    "        if('learning_rate' in kargs):\n",
    "            self.set_learning_rate(kargs['learning_rate'])\n",
    "        else:# Si no se especifica learning_rate el defecto es 0.01\n",
    "            self.set_learning_rate(0.01)\n",
    "            \n",
    "        #Si es la primera capa no tiene matriz de pesos\n",
    "        if(self.layer_index == 0):\n",
    "            self.weights_matrix = np.identity(self.neurons_in_layer)\n",
    "            #Con esto logramos una matriz identidad que al ser multiplicada por el vector de inputs\n",
    "            #nos da el mismo vector de inputs\n",
    "        else:\n",
    "            self.weights_matrix = np.random.rand(self.neurons_in_layer, neurons_previous_layer)\n",
    "    \n",
    "    def compute_layer_activations(self, activations_prev_layer):\n",
    "        \n",
    "        #Primero calculamos el input_sum, a la capa de input hay que simplemente pasarle la primera fila\n",
    "        #de los datos como 'activations_prev_layer' cuando se entrene la red\n",
    "        self.input_sum = np.dot(self.get_weights_matrix(), activations_prev_layer)\n",
    "        \n",
    "        #Ahora que calculamos el input sum, hay que pasar el resultado por la función de transferencia para ver\n",
    "        #que es lo que las neuronas estan escupiendo\n",
    "        \n",
    "        self.activations_column = [self.transfer(activ_weights_sum) for activ_weights_sum in self.input_sum]\n",
    "        #listo :V\n",
    "\n",
    "    def update_weights(self):\n",
    "        self.set_weights_matrix(\n",
    "            self.get_weights_matrix() - np.dot(np.transpose(self.get_learning_rate()), self.get_error_signals())\n",
    "        )\n",
    "        \n",
    "    ###### Funciones de activacion #########\n",
    "    \n",
    "    # Sigmoid\n",
    "    def sigmoid(self, activation):\n",
    "        TOL = 1e-12 #La sigmoidal se agila en los extremos asi que hay que ponerle un limite de tolerancia\n",
    "        print(activation)\n",
    "        try:\n",
    "            if(activation > 0):\n",
    "                activ = np.maximum(TOL, activation)\n",
    "            elif(activation < 0):\n",
    "                activ = np.maximum(-100,activation)\n",
    "        except TypeError:\n",
    "            activation = activation[0]\n",
    "            if(activation > 0):\n",
    "                activ = np.maximum(TOL, activation)\n",
    "            elif(activation < 0):\n",
    "                activ = np.maximum(-100,activation)\n",
    "        return 1 / (1 + np.exp(-activ))\n",
    "    \n",
    "    def sigmoid_derivative(self, input_sum):\n",
    "        return self.sigmoid(input_sum)*(1.0 - self.sigmoid(input_sum))\n",
    "    \n",
    "    # SoftMax\n",
    "    def softmax(self, activation):\n",
    "        return exp(activation)/np.sum(map(exp, self.activations_column))\n",
    "    def softmax_derivative(self, input_sum):\n",
    "        return self.softmax(input_sum)(1.0 - self.softmax(input_sum))\n",
    "        \n",
    "    # Linear\n",
    "    def linear(self, activation):\n",
    "        return activation\n",
    "    def linear_derivative(self, input_sum):\n",
    "        return 1.0\n",
    "    \n",
    "    ########################################\n",
    "    def get_parameters(self):\n",
    "        layer_params = {'neurons_in_layer':self.neurons_in_layer, 'weights_matrix':self.weights_matrix, \n",
    "                        'index':self.layer_index, 'input_sum':self.input_sum, \n",
    "                        'activations_column':self.activations_column}\n",
    "        return layer_params\n",
    "    \n",
    "    def get_weights_matrix(self):\n",
    "        return self.weights_matrix\n",
    "    def set_weights_matrix(self, new_weights):\n",
    "        self.weights_matrix = new_weights\n",
    "    \n",
    "    def get_index(self):\n",
    "        return self.layer_index\n",
    "    \n",
    "    def get_input_sum(self):\n",
    "        return self.input_sum\n",
    "    \n",
    "    def get_activations_column(self):\n",
    "        return self.activations_column\n",
    "    def get_error_signals(self):\n",
    "        return self.error_signals\n",
    "    def set_error_signals(self, signals_column):\n",
    "        self.error_signals = np.array([signals_column], ndmin=2)\n",
    "    def set_learning_rate(self,learning_rate):\n",
    "        self.learning_rate = learning_rate\n",
    "    def get_learning_rate(self):\n",
    "        return self.learning_rate\n",
    "        \n",
    "        \n"
   ]
  },
  {
   "cell_type": "code",
   "execution_count": 3,
   "metadata": {},
   "outputs": [],
   "source": [
    "X_train,y_train = load_iris(return_X_y=True)\n",
    "a = pd.DataFrame(X_train)\n",
    "b = pd.DataFrame(y_train)"
   ]
  },
  {
   "cell_type": "code",
   "execution_count": 4,
   "metadata": {},
   "outputs": [
    {
     "data": {
      "text/plain": [
       "{'hidden_layers': [<__main__.Layer at 0x1e04db95390>,\n",
       "  <__main__.Layer at 0x1e04db95a20>,\n",
       "  <__main__.Layer at 0x1e04db95400>,\n",
       "  <__main__.Layer at 0x1e04db95860>],\n",
       " 'n_inputs': 4,\n",
       " 'n_outputs': 1,\n",
       " 'neurons_each_layer': (3, 2)}"
      ]
     },
     "execution_count": 4,
     "metadata": {},
     "output_type": "execute_result"
    }
   ],
   "source": [
    "mynet = Network(4,(3,2), 1)\n",
    "mynet.get_network_parameters()"
   ]
  },
  {
   "cell_type": "code",
   "execution_count": 5,
   "metadata": {},
   "outputs": [
    {
     "data": {
      "text/plain": [
       "array([[ 0.40489152,  0.76978675,  0.35688031,  0.84996066],\n",
       "       [ 0.12998266,  0.4699822 ,  0.95727088,  0.26970301],\n",
       "       [ 0.75217589,  0.15527544,  0.30815093,  0.02709704]])"
      ]
     },
     "execution_count": 5,
     "metadata": {},
     "output_type": "execute_result"
    }
   ],
   "source": [
    "mynet.get_weights_matrix(1)"
   ]
  },
  {
   "cell_type": "code",
   "execution_count": 6,
   "metadata": {},
   "outputs": [
    {
     "name": "stdout",
     "output_type": "stream",
     "text": [
      "5.42882493254\n",
      "3.70196909045\n",
      "4.81639180016\n",
      "2.25453046642\n",
      "1.34837465979\n",
      "1.10990330094\n",
      "[0.75211108330582988]\n",
      "[0.75211108330582988]\n"
     ]
    }
   ],
   "source": [
    "mynet.train(a[:1:], b[:1:])"
   ]
  },
  {
   "cell_type": "code",
   "execution_count": 7,
   "metadata": {},
   "outputs": [
    {
     "data": {
      "text/plain": [
       "array([[[[ 0.40446997,  0.7693652 ,  0.35645877,  0.84953912],\n",
       "         [ 0.12956111,  0.46956065,  0.95684934,  0.26928146],\n",
       "         [ 0.75175434,  0.1548539 ,  0.30772939,  0.0266755 ]],\n",
       "\n",
       "        [[ 0.40433607,  0.7692313 ,  0.35632487,  0.84940521],\n",
       "         [ 0.12942721,  0.46942675,  0.95671543,  0.26914756],\n",
       "         [ 0.75162044,  0.15471999,  0.30759548,  0.0265416 ]],\n",
       "\n",
       "        [[ 0.40432846,  0.76922369,  0.35631726,  0.84939761],\n",
       "         [ 0.12941961,  0.46941914,  0.95670783,  0.26913995],\n",
       "         [ 0.75161284,  0.15471239,  0.30758788,  0.02653399]]]])"
      ]
     },
     "execution_count": 7,
     "metadata": {},
     "output_type": "execute_result"
    }
   ],
   "source": [
    "mynet.get_weights_matrix(1)"
   ]
  },
  {
   "cell_type": "markdown",
   "metadata": {
    "collapsed": true
   },
   "source": [
    "## 2.- Comparación con Keras\n",
    "\n",
    "Ahora se procederá a comparar el resultado de nuestra red neuronal casera con la implementación que ofrece Keras.\n",
    "\n",
    "a) Partiremos por definir las características de la red, y b) las compilaremos para configurar el proceso de aprendizaje."
   ]
  },
  {
   "cell_type": "code",
   "execution_count": 8,
   "metadata": {},
   "outputs": [],
   "source": [
    "X_train, y_train = load_iris(return_X_y = True)\n",
    "scaler = StandardScaler().fit(X_train)\n",
    "X_train = scaler.transform(X_train)\n",
    "y_onehot = to_categorical(y_train)\n",
    "\n",
    "models = []\n",
    "\n",
    "for activation in [\"relu\", \"sigmoid\"]:\n",
    "    for loss in [\"categorical_crossentropy\", \"mse\"]:\n",
    "        model = Sequential()\n",
    "        model.add(Dense(32, activation = activation, input_dim = X_train.shape[1]))\n",
    "        model.add(Dense(16, activation = activation))\n",
    "        model.add(Dense(3, activation = \"softmax\"))\n",
    "        model.compile(optimizer = SGD(lr = 0.1), metrics=[\"accuracy\"], loss = loss)\n",
    "        models.append(model)\n",
    "        \n",
    "titles = [\"CXE con ReLU\", \"CXE con sigmoidal\", \"MSE con ReLU\", \"MSE con sigmoidal\"]"
   ]
  },
  {
   "cell_type": "markdown",
   "metadata": {},
   "source": [
    "c) Ahora, para cada una de las cuatro redes, observaremos lo que pasa con el error de entrenamiento a medida que van pasando los *epochs*."
   ]
  },
  {
   "cell_type": "code",
   "execution_count": 9,
   "metadata": {},
   "outputs": [],
   "source": [
    "from matplotlib import pyplot\n",
    "\n",
    "def networkPlot(errors, losses, title = \"\"):\n",
    "    epochs = len(errors)\n",
    "    epochs = range(1, epochs+1)\n",
    "    \n",
    "    pyplot.figure(figsize=(12,4))\n",
    "    \n",
    "    pyplot.subplot(1,2,1)\n",
    "    pyplot.plot(epochs, errors)\n",
    "    pyplot.ylim(0,1)\n",
    "    pyplot.xlabel(\"Ciclo\")\n",
    "    pyplot.ylabel(\"Error de clasificación\")\n",
    "    \n",
    "    pyplot.subplot(1,2,2)\n",
    "    pyplot.plot(epochs, losses)\n",
    "    pyplot.xlabel(\"Ciclo\")\n",
    "    pyplot.ylabel(\"Funcion objetivo\")\n",
    "    \n",
    "    pyplot.tight_layout()\n",
    "    pyplot.suptitle(title, fontsize = 16)\n",
    "    pyplot.subplots_adjust(top = 0.85)\n",
    "    pyplot.show()\n",
    "    return None\n",
    "\n",
    "def convertNetOutput(output):\n",
    "    y_pred = []\n",
    "    for entry in output:\n",
    "        if entry[0] > entry[1] and entry[0] > entry[2]:\n",
    "            y_pred.append(0)\n",
    "        elif entry[1] > entry[0] and entry[1] > entry[2]:\n",
    "            y_pred.append(1)\n",
    "        else:\n",
    "            y_pred.append(2)\n",
    "    return numpy.array(y_pred)"
   ]
  },
  {
   "cell_type": "code",
   "execution_count": 10,
   "metadata": {},
   "outputs": [
    {
     "data": {
      "image/png": "[encoded data removed]",
      "text/plain": [
       "<Figure size 864x288 with 2 Axes>"
      ]
     },
     "metadata": {},
     "output_type": "display_data"
    },
    {
     "name": "stdout",
     "output_type": "stream",
     "text": [
      "150/150 [==============================] - 0s 313us/step\n",
      "Final loss: 0.0405582352231\n",
      "Final training accuracy: 0.979999997616\n",
      "Time elapsed in training: 1.1749719360359219 seconds.\n",
      "[[50  0  0]\n",
      " [ 0 48  2]\n",
      " [ 0  1 49]]\n"
     ]
    },
    {
     "data": {
      "image/png": "[encoded data removed]",
      "text/plain": [
       "<Figure size 864x288 with 2 Axes>"
      ]
     },
     "metadata": {},
     "output_type": "display_data"
    },
    {
     "name": "stdout",
     "output_type": "stream",
     "text": [
      "150/150 [==============================] - 0s 313us/step\n",
      "Final loss: 0.0216027818744\n",
      "Final training accuracy: 0.973333330949\n",
      "Time elapsed in training: 0.7677703239206519 seconds.\n",
      "[[50  0  0]\n",
      " [ 0 47  3]\n",
      " [ 0  1 49]]\n"
     ]
    },
    {
     "data": {
      "image/png": "[encoded data removed]",
      "text/plain": [
       "<Figure size 864x288 with 2 Axes>"
      ]
     },
     "metadata": {},
     "output_type": "display_data"
    },
    {
     "name": "stdout",
     "output_type": "stream",
     "text": [
      "150/150 [==============================] - 0s 313us/step\n",
      "Final loss: 0.222061856985\n",
      "Final training accuracy: 0.953333333333\n",
      "Time elapsed in training: 0.8968986919696746 seconds.\n",
      "[[50  0  0]\n",
      " [ 0 44  6]\n",
      " [ 0  1 49]]\n"
     ]
    },
    {
     "data": {
      "image/png": "[encoded data removed]",
      "text/plain": [
       "<Figure size 864x288 with 2 Axes>"
      ]
     },
     "metadata": {},
     "output_type": "display_data"
    },
    {
     "name": "stdout",
     "output_type": "stream",
     "text": [
      "150/150 [==============================] - 0s 417us/step\n",
      "Final loss: 0.188140443365\n",
      "Final training accuracy: 0.66\n",
      "Time elapsed in training: 0.8024006795937972 seconds.\n",
      "[[50  0  0]\n",
      " [22  0 28]\n",
      " [ 1  0 49]]\n"
     ]
    }
   ],
   "source": [
    "import numpy\n",
    "\n",
    "for model, title in zip(models, titles):\n",
    "    start = timer()\n",
    "    history = model.fit(X_train, y_onehot, epochs = 100, verbose = 0)\n",
    "    end = timer()\n",
    "    \n",
    "    classificationError = [1 - x for x in history.history[\"acc\"]]\n",
    "    objectiveFunction = history.history[\"loss\"]\n",
    "    networkPlot(classificationError, objectiveFunction, title)\n",
    "    \n",
    "    score = model.evaluate(X_train, y_onehot)\n",
    "    print(\"Final loss:\", score[0])\n",
    "    print(\"Final training accuracy:\", score[1])\n",
    "    print(\"Time elapsed in training:\", end - start, \"seconds.\")\n",
    "    \n",
    "    prediction = model.predict(X_train)\n",
    "    prediction = convertNetOutput(prediction)\n",
    "    print(confusion_matrix(y_train, prediction))"
   ]
  },
  {
   "cell_type": "code",
   "execution_count": null,
   "metadata": {},
   "outputs": [],
   "source": []
  }
 ],
 "metadata": {
  "kernelspec": {
   "display_name": "Python 3",
   "language": "python",
   "name": "python3"
  },
  "language_info": {
   "codemirror_mode": {
    "name": "ipython",
    "version": 3
   },
   "file_extension": ".py",
   "mimetype": "text/x-python",
   "name": "python",
   "nbconvert_exporter": "python",
   "pygments_lexer": "ipython3",
   "version": "3.6.4"
  }
 },
 "nbformat": 4,
 "nbformat_minor": 2
}
