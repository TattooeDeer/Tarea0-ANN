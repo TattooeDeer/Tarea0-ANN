{
 "cells": [
  {
   "cell_type": "raw",
   "metadata": {},
   "source": [
    "<script>\n",
    "  jQuery(document).ready(function($) {\n",
    "\n",
    "  $(window).load(function(){\n",
    "    $('#preloader').fadeOut('slow',function(){$(this).remove();});\n",
    "  });\n",
    "\n",
    "  });\n",
    "</script>\n",
    "\n",
    "<style type=\"text/css\">\n",
    "  div#preloader { position: fixed;\n",
    "      left: 0;\n",
    "      top: 0;\n",
    "      z-index: 999;\n",
    "      width: 100%;\n",
    "      height: 100%;\n",
    "      overflow: visible;\n",
    "      background: #fff url('http://preloaders.net/preloaders/720/Moving%20line.gif') no-repeat center center;\n",
    "  }\n",
    "\n",
    "</style>\n",
    "\n",
    "<div id=\"preloader\"></div>\n",
    "\n",
    "<script>\n",
    "  function code_toggle() {\n",
    "    if (code_shown){\n",
    "      $('div.input').hide('500');\n",
    "      $('#toggleButton').val('Show Code')\n",
    "    } else {\n",
    "      $('div.input').show('500');\n",
    "      $('#toggleButton').val('Hide Code')\n",
    "    }\n",
    "    code_shown = !code_shown\n",
    "  }\n",
    "\n",
    "  $( document ).ready(function(){\n",
    "    code_shown=false;\n",
    "    $('div.input').hide()\n",
    "  });\n",
    "</script>\n",
    "<form action=\"javascript:code_toggle()\"><input type=\"submit\" id=\"toggleButton\" value=\"Show Code\"></form>"
   ]
  },
  {
   "cell_type": "markdown",
   "metadata": {},
   "source": [
    "<img src=\"images/escudo_utfsm.gif\" style=\"float:right;height:100px\">\n",
    "<img src=\"images/IsotipoDIisocolor.png\" style=\"float:left;height:100px\">\n",
    "<center>\n",
    "\n",
    "    <i><h2 style=\"font-family:serif;font-size:300%; text-align:center;color:#283A5B\"> Tarea 0</h2></i>\n",
    "    <h1 style=\"font-family:serif;font-size:200%; text-align:center;color:#4d4d4d\"> <i> Redes Neuronales Artificiales - San Joaquín </i></h1>\n",
    "    <h3 style = 'font-family:serif;font-size:120%'><i> Ignacio Loayza C. 201273604-8</i></h3>\n",
    "\n",
    "</center>\n",
    "\n",
    "<p>\n",
    "<center>_Marzo 2018_ </center>\n",
    "</p>"
   ]
  },
  {
   "cell_type": "code",
   "execution_count": 9,
   "metadata": {},
   "outputs": [
    {
     "data": {
      "text/html": [
       "\n",
       "<style>\n",
       "p {\n",
       "    color: black;\n",
       "    font-family: Serif;\n",
       "    font-size: 1.23em;\n",
       "}\n",
       ".output_png {\n",
       "        display: table-cell;\n",
       "        text-align: center;\n",
       "        vertical-align: middle;\n",
       "    }\n",
       "\n",
       "</style>\n",
       "\n"
      ],
      "text/plain": [
       "<IPython.core.display.HTML object>"
      ]
     },
     "metadata": {},
     "output_type": "display_data"
    }
   ],
   "source": [
    "# encoding: utf-8\n",
    "%matplotlib inline\n",
    "\n",
    "# semilla\n",
    "seed = hash(\"Ñanculef es mi pastor, nada me ha de faltar\")%2^32\n",
    "\n",
    "# Imports\n",
    "\n",
    "#Neural Networks\n",
    "import tensorflow as tf\n",
    "from keras.models import Sequential\n",
    "from keras.layers import Dense\n",
    "\n",
    "\n",
    "#numerico\n",
    "import numpy as np\n",
    "import pandas as pd\n",
    "\n",
    "#Machine Learning\n",
    "\n",
    "#Metricas\n",
    "\n",
    "#Graficos\n",
    "import matplotlib.pyplot as plt\n",
    "import seaborn as sn\n",
    "sn.set_style(\"darkgrid\")\n",
    "import graphviz\n",
    "\n",
    "# Warnings\n",
    "import warnings\n",
    "warnings.filterwarnings('ignore')\n",
    "\n",
    "#Shallow copy\n",
    "import copy\n",
    "\n",
    "#preprocesamiento\n",
    "\n",
    "\n",
    "#HTML incrustation\n",
    "from IPython.display import display, HTML\n",
    "\n",
    "display(HTML(\"\"\"\n",
    "<style>\n",
    "p {\n",
    "    color: black;\n",
    "    font-family: Serif;\n",
    "    font-size: 1.23em;\n",
    "}\n",
    ".output_png {\n",
    "        display: table-cell;\n",
    "        text-align: center;\n",
    "        vertical-align: middle;\n",
    "    }\n",
    "\n",
    "</style>\n",
    "\n",
    "\"\"\"))\n"
   ]
  },
  {
   "cell_type": "markdown",
   "metadata": {},
   "source": [
    "<i><h2 style=\"font-family:serif;font-size:260%; text-align:center;color:#004d80\"> Back-propagation from Scratch</h2></i>\n",
    "\n",
    "<i><h3 style=\"font-family:serif;font-size:200%; text-align:left;color:#4d4d4d\"> I) Entrenando una red FF mediante Back-propagation</h3></i>\n",
    "\n",
    "Comenzaremos entrenando una red del tipo *Feed Forward* con arquitectura de dos capas ocultas, distribuidas de la forma  32:16 neuronas en las capas y *K* neuronas de salida."
   ]
  },
  {
   "cell_type": "code",
   "execution_count": null,
   "metadata": {
    "collapsed": true
   },
   "outputs": [],
   "source": [
    "## Clases necesarias\n",
    "\n",
    "class Network:\n",
    "    def __init__(self, n_inputs, neurons_each_layer, n_outputs):\n",
    "        self.n_inputs = n_inputs\n",
    "        self.neurons_each_layer = neurons_each_layer\n",
    "        self.n_outputs = n_outputs\n",
    "        \n",
    "        # Inicializacion de las capas\n",
    "        layers = []\n",
    "        for layer_conf in neurons_each_layer:\n",
    "            layers.append(Layer(layer_conf))\n",
    "        self.hidden_layers = layers\n",
    "            \n",
    "        \n",
    "        \n",
    "    def get_weight_matrix(layer_from, layer_to)\n",
    "    def get_parameters(self):\n",
    "        network_params = {'n_inputs':self.n_inputs,\n",
    "                        'neurons_each_layer':self.neurons_each_layer,\n",
    "                        'n_outputs':self.n_outputs}\n",
    "        return network_params\n",
    "        \n",
    "        \n",
    "class Layer:\n",
    "    def __init__(self, neurons_in_layer, first_layer):\n",
    "        self.neurons_in_layer = neurons_in_layer\n",
    "        self.neurons = \n",
    "        self.input_weights = np.random.rand(1,self.neurons_in_layer)\n",
    "\n",
    "    def get_parameters(self):\n",
    "        layer_params = {'neurons_in_layer':self.neurons_in_layer}\n",
    "        return layer_params\n",
    "    \n",
    "    def get_weights_matrix(self):\n",
    "        \n",
    "        \n"
   ]
  },
  {
   "cell_type": "code",
   "execution_count": null,
   "metadata": {
    "collapsed": true
   },
   "outputs": [],
   "source": [
    "def new_net(n_inputs, neurons_each_layer, n_outputs):\n",
    "    return network\n",
    "    "
   ]
  },
  {
   "cell_type": "code",
   "execution_count": 16,
   "metadata": {},
   "outputs": [
    {
     "data": {
      "text/plain": [
       "array([ 0.41601325])"
      ]
     },
     "execution_count": 16,
     "metadata": {},
     "output_type": "execute_result"
    }
   ],
   "source": [
    "a = np.random.rand(1,5)\n",
    "a[:,3]"
   ]
  },
  {
   "cell_type": "code",
   "execution_count": null,
   "metadata": {
    "collapsed": true
   },
   "outputs": [],
   "source": []
  },
  {
   "cell_type": "code",
   "execution_count": null,
   "metadata": {
    "collapsed": true
   },
   "outputs": [],
   "source": []
  }
 ],
 "metadata": {
  "kernelspec": {
   "display_name": "Python [conda root]",
   "language": "python",
   "name": "conda-root-py"
  },
  "language_info": {
   "codemirror_mode": {
    "name": "ipython",
    "version": 3
   },
   "file_extension": ".py",
   "mimetype": "text/x-python",
   "name": "python",
   "nbconvert_exporter": "python",
   "pygments_lexer": "ipython3",
   "version": "3.6.1"
  }
 },
 "nbformat": 4,
 "nbformat_minor": 2
}
